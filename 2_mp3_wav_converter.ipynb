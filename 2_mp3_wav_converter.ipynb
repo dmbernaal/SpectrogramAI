{
 "cells": [
  {
   "cell_type": "markdown",
   "metadata": {},
   "source": [
    "# File Converter\n",
    "The next step will be to take the raw_audio files and convert them into .wav files. This is a necessary step to eventually conver them into **spectrograms**"
   ]
  },
  {
   "cell_type": "code",
   "execution_count": 5,
   "metadata": {},
   "outputs": [],
   "source": [
    "import subprocess\n",
    "import os"
   ]
  },
  {
   "cell_type": "code",
   "execution_count": 9,
   "metadata": {},
   "outputs": [],
   "source": [
    "# current working directory & others - yours may be different\n",
    "root_path = '/Users/diegomedina-bernal/Desktop/SpectroGram'\n",
    "trash_path = '/Users/diegomedina-bernal/Desktop/SpectroGram/raw_audio/trash'\n",
    "fire_path = '/Users/diegomedina-bernal/Desktop/SpectroGram/raw_audio/fire'"
   ]
  },
  {
   "cell_type": "code",
   "execution_count": 27,
   "metadata": {},
   "outputs": [],
   "source": [
    "def convert(directory, label):\n",
    "    \"\"\"\n",
    "    Args: directory - directory to loop over\n",
    "    \"\"\"\n",
    "    # you may have to change the paths\n",
    "    i = 0\n",
    "    for f in os.listdir(directory):\n",
    "        subprocess.call(['ffmpeg', '-i', f'/Users/diegomedina-bernal/Desktop/SpectroGram/raw_audio/{label}/{f}',\n",
    "               f'/Users/diegomedina-bernal/Desktop/SpectroGram/raw_audio/{label}/{label}_{i}.wav'])\n",
    "        \n",
    "        # removing file\n",
    "        os.remove(f'/Users/diegomedina-bernal/Desktop/SpectroGram/raw_audio/{label}/{f}')\n",
    "        \n",
    "        i += 1\n",
    "        \n",
    "    print('finished!')"
   ]
  },
  {
   "cell_type": "code",
   "execution_count": 28,
   "metadata": {},
   "outputs": [
    {
     "name": "stdout",
     "output_type": "stream",
     "text": [
      "finished!\n",
      "finished!\n"
     ]
    }
   ],
   "source": [
    "# Let's convert\n",
    "convert(trash_path, 'trash')\n",
    "convert(fire_path, 'fire')"
   ]
  },
  {
   "cell_type": "code",
   "execution_count": null,
   "metadata": {},
   "outputs": [],
   "source": []
  }
 ],
 "metadata": {
  "kernelspec": {
   "display_name": "Python 3",
   "language": "python",
   "name": "python3"
  },
  "language_info": {
   "codemirror_mode": {
    "name": "ipython",
    "version": 3
   },
   "file_extension": ".py",
   "mimetype": "text/x-python",
   "name": "python",
   "nbconvert_exporter": "python",
   "pygments_lexer": "ipython3",
   "version": "3.6.6"
  }
 },
 "nbformat": 4,
 "nbformat_minor": 2
}
